{
 "cells": [
  {
   "cell_type": "code",
   "execution_count": 1,
   "metadata": {},
   "outputs": [],
   "source": [
    "from selenium import webdriver\n",
    "from bs4 import BeautifulSoup\n",
    "import time, os\n",
    "from datetime import datetime\n",
    "import pandas as pd"
   ]
  },
  {
   "cell_type": "code",
   "execution_count": 2,
   "metadata": {},
   "outputs": [],
   "source": [
    "# review link link\n",
    "link = \"https://play.google.com/store/apps/details?id=com.kbstar.kbpfm&showAllReviews=true\""
   ]
  },
  {
   "cell_type": "code",
   "execution_count": 3,
   "metadata": {},
   "outputs": [],
   "source": [
    "# how many scrolls we need\n",
    "scroll_cnt = 4"
   ]
  },
  {
   "cell_type": "code",
   "execution_count": 4,
   "metadata": {},
   "outputs": [],
   "source": [
    "driver = webdriver.Chrome(\"C:/chrome/chromedriver.exe\")\n",
    "driver.get(link)"
   ]
  },
  {
   "cell_type": "code",
   "execution_count": 5,
   "metadata": {},
   "outputs": [],
   "source": [
    "os.makedirs('result', exist_ok=True)"
   ]
  },
  {
   "cell_type": "code",
   "execution_count": 6,
   "metadata": {},
   "outputs": [
    {
     "name": "stdout",
     "output_type": "stream",
     "text": [
      "끝\n"
     ]
    }
   ],
   "source": [
    "while True:\n",
    "    # (1) 4번의  스크롤링\n",
    "    for i in range(4):\n",
    "        driver.execute_script(\"window.scrollTo(0, document.body.scrollHeight);\")\n",
    "        time.sleep(3)\n",
    "\n",
    "    # (2) 더보기 클릭\n",
    "    try:\n",
    "        driver.find_element_by_xpath(\"//span[@class='RveJvd snByac']\").click()\n",
    "    except:\n",
    "        print('끝')\n",
    "        break"
   ]
  },
  {
   "cell_type": "code",
   "execution_count": 7,
   "metadata": {},
   "outputs": [],
   "source": [
    "# get review containers\n",
    "reviews = driver.find_elements_by_xpath('//*[@jsname=\"fk8dgd\"]//div[@class=\"d15Mdf bAhLNe\"]')"
   ]
  },
  {
   "cell_type": "code",
   "execution_count": 8,
   "metadata": {},
   "outputs": [
    {
     "name": "stdout",
     "output_type": "stream",
     "text": [
      "There are 614 reviews avaliable!\n",
      "Writing the data...\n"
     ]
    }
   ],
   "source": [
    "print('There are %d reviews avaliable!' % len(reviews))\n",
    "print('Writing the data...')"
   ]
  },
  {
   "cell_type": "code",
   "execution_count": 9,
   "metadata": {},
   "outputs": [],
   "source": [
    "# create empty dataframe to store data\n",
    "df = pd.DataFrame(columns=['date', 'ratings', 'helpful', 'comment'])"
   ]
  },
  {
   "cell_type": "code",
   "execution_count": 10,
   "metadata": {},
   "outputs": [],
   "source": [
    "# get review data\n",
    "for review in reviews:\n",
    "    # parse string to html using bs4\n",
    "    soup = BeautifulSoup(review.get_attribute('innerHTML'), 'html.parser')\n",
    "    \n",
    "    # review date\n",
    "    date = soup.find(class_='p2TkOb').text\n",
    "    date = datetime.strptime(date, '%Y년 %m월 %d일')\n",
    "    date = date.strftime('%Y-%m-%d')\n",
    "    \n",
    "    # ratiabsng\n",
    "    ratings = int(soup.find('div', role='img').get('aria-label').replace('별표 5개 만점에', '').replace('개를 받았습니다.', '').strip())\n",
    "\n",
    "    # helpful\n",
    "    helpful = soup.find(class_='jUL89d y92BAb').text\n",
    "    if not helpful:\n",
    "        helpful = 0\n",
    "  \n",
    "    # review text\n",
    "    comment = soup.find('span', jsname='fbQN7e').text\n",
    "    if not comment:\n",
    "        comment = soup.find('span', jsname='bN97Pc').text\n",
    "\n",
    "    # append to dataframe\n",
    "    df = df.append({\n",
    "        'date': date,\n",
    "        'ratings': ratings,\n",
    "        'helpful': helpful,\n",
    "        'comment': comment\n",
    "    }, ignore_index=True)"
   ]
  },
  {
   "cell_type": "code",
   "execution_count": 11,
   "metadata": {},
   "outputs": [
    {
     "name": "stdout",
     "output_type": "stream",
     "text": [
      "Done!\n"
     ]
    }
   ],
   "source": [
    "# finally save the dataframe into csv file\n",
    "df.to_csv('마이머니_Playstore.csv', encoding='utf-8-sig', index=False)\n",
    "driver.stop_client()\n",
    "driver.close()\n",
    "\n",
    "print('Done!')"
   ]
  },
  {
   "cell_type": "code",
   "execution_count": 12,
   "metadata": {},
   "outputs": [
    {
     "data": {
      "text/html": [
       "<div>\n",
       "<style scoped>\n",
       "    .dataframe tbody tr th:only-of-type {\n",
       "        vertical-align: middle;\n",
       "    }\n",
       "\n",
       "    .dataframe tbody tr th {\n",
       "        vertical-align: top;\n",
       "    }\n",
       "\n",
       "    .dataframe thead th {\n",
       "        text-align: right;\n",
       "    }\n",
       "</style>\n",
       "<table border=\"1\" class=\"dataframe\">\n",
       "  <thead>\n",
       "    <tr style=\"text-align: right;\">\n",
       "      <th></th>\n",
       "      <th>date</th>\n",
       "      <th>ratings</th>\n",
       "      <th>helpful</th>\n",
       "      <th>comment</th>\n",
       "    </tr>\n",
       "  </thead>\n",
       "  <tbody>\n",
       "    <tr>\n",
       "      <th>0</th>\n",
       "      <td>2020-11-06</td>\n",
       "      <td>3</td>\n",
       "      <td>13</td>\n",
       "      <td>솔직히 많이 부족한 앱이라고 생각합니다. 여러 은행 등록가능한건 좋지만 이런 어플에...</td>\n",
       "    </tr>\n",
       "    <tr>\n",
       "      <th>1</th>\n",
       "      <td>2020-11-15</td>\n",
       "      <td>3</td>\n",
       "      <td>4</td>\n",
       "      <td>데이터가 중복으로 떠서 지우기를 반복하다가 서비스 해지까지했는데 업데이트가 있었네요...</td>\n",
       "    </tr>\n",
       "    <tr>\n",
       "      <th>2</th>\n",
       "      <td>2020-11-01</td>\n",
       "      <td>2</td>\n",
       "      <td>17</td>\n",
       "      <td>기본 테스트도 안하고 출시한 앱 같아요. 인증서 등록 무한반복, 지문등록 무한반복 ...</td>\n",
       "    </tr>\n",
       "    <tr>\n",
       "      <th>3</th>\n",
       "      <td>2020-10-29</td>\n",
       "      <td>4</td>\n",
       "      <td>16</td>\n",
       "      <td>KB마이머니에 로그인 하면 KB스타알림에 스마트폰뱅킹 아이디로 로그인 했다고 알림이...</td>\n",
       "    </tr>\n",
       "    <tr>\n",
       "      <th>4</th>\n",
       "      <td>2020-09-01</td>\n",
       "      <td>1</td>\n",
       "      <td>81</td>\n",
       "      <td>가계부는 매일 입력된 지출카테고리를, 매달 지출 카테고리별 총 금액으로, 한눈에 보...</td>\n",
       "    </tr>\n",
       "    <tr>\n",
       "      <th>...</th>\n",
       "      <td>...</td>\n",
       "      <td>...</td>\n",
       "      <td>...</td>\n",
       "      <td>...</td>\n",
       "    </tr>\n",
       "    <tr>\n",
       "      <th>609</th>\n",
       "      <td>2018-05-05</td>\n",
       "      <td>2</td>\n",
       "      <td>0</td>\n",
       "      <td>안좋아</td>\n",
       "    </tr>\n",
       "    <tr>\n",
       "      <th>610</th>\n",
       "      <td>2017-04-23</td>\n",
       "      <td>5</td>\n",
       "      <td>0</td>\n",
       "      <td>좋아요</td>\n",
       "    </tr>\n",
       "    <tr>\n",
       "      <th>611</th>\n",
       "      <td>2017-05-11</td>\n",
       "      <td>5</td>\n",
       "      <td>1</td>\n",
       "      <td>좋아요</td>\n",
       "    </tr>\n",
       "    <tr>\n",
       "      <th>612</th>\n",
       "      <td>2020-06-13</td>\n",
       "      <td>5</td>\n",
       "      <td>0</td>\n",
       "      <td>굿</td>\n",
       "    </tr>\n",
       "    <tr>\n",
       "      <th>613</th>\n",
       "      <td>2019-12-15</td>\n",
       "      <td>5</td>\n",
       "      <td>0</td>\n",
       "      <td>좋아요</td>\n",
       "    </tr>\n",
       "  </tbody>\n",
       "</table>\n",
       "<p>614 rows × 4 columns</p>\n",
       "</div>"
      ],
      "text/plain": [
       "           date  ratings  helpful  \\\n",
       "0    2020-11-06        3       13   \n",
       "1    2020-11-15        3        4   \n",
       "2    2020-11-01        2       17   \n",
       "3    2020-10-29        4       16   \n",
       "4    2020-09-01        1       81   \n",
       "..          ...      ...      ...   \n",
       "609  2018-05-05        2        0   \n",
       "610  2017-04-23        5        0   \n",
       "611  2017-05-11        5        1   \n",
       "612  2020-06-13        5        0   \n",
       "613  2019-12-15        5        0   \n",
       "\n",
       "                                               comment  \n",
       "0    솔직히 많이 부족한 앱이라고 생각합니다. 여러 은행 등록가능한건 좋지만 이런 어플에...  \n",
       "1    데이터가 중복으로 떠서 지우기를 반복하다가 서비스 해지까지했는데 업데이트가 있었네요...  \n",
       "2    기본 테스트도 안하고 출시한 앱 같아요. 인증서 등록 무한반복, 지문등록 무한반복 ...  \n",
       "3    KB마이머니에 로그인 하면 KB스타알림에 스마트폰뱅킹 아이디로 로그인 했다고 알림이...  \n",
       "4    가계부는 매일 입력된 지출카테고리를, 매달 지출 카테고리별 총 금액으로, 한눈에 보...  \n",
       "..                                                 ...  \n",
       "609                                                안좋아  \n",
       "610                                                좋아요  \n",
       "611                                                좋아요  \n",
       "612                                                  굿  \n",
       "613                                                좋아요  \n",
       "\n",
       "[614 rows x 4 columns]"
      ]
     },
     "execution_count": 12,
     "metadata": {},
     "output_type": "execute_result"
    }
   ],
   "source": [
    "train = pd.read_csv('마이머니_Playstore.csv')\n",
    "train"
   ]
  }
 ],
 "metadata": {
  "kernelspec": {
   "display_name": "Python 3",
   "language": "python",
   "name": "python3"
  },
  "language_info": {
   "codemirror_mode": {
    "name": "ipython",
    "version": 3
   },
   "file_extension": ".py",
   "mimetype": "text/x-python",
   "name": "python",
   "nbconvert_exporter": "python",
   "pygments_lexer": "ipython3",
   "version": "3.7.6"
  }
 },
 "nbformat": 4,
 "nbformat_minor": 4
}
