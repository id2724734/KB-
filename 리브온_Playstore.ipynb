{
 "cells": [
  {
   "cell_type": "code",
   "execution_count": 1,
   "metadata": {},
   "outputs": [],
   "source": [
    "from selenium import webdriver\n",
    "from bs4 import BeautifulSoup\n",
    "import time, os\n",
    "from datetime import datetime\n",
    "import pandas as pd"
   ]
  },
  {
   "cell_type": "code",
   "execution_count": 2,
   "metadata": {},
   "outputs": [],
   "source": [
    "# review link link\n",
    "link = 'https://play.google.com/store/apps/details?id=com.kbstar.kbland&showAllReviews=true'"
   ]
  },
  {
   "cell_type": "code",
   "execution_count": 3,
   "metadata": {},
   "outputs": [],
   "source": [
    "# how many scrolls we need\n",
    "scroll_cnt = 4"
   ]
  },
  {
   "cell_type": "code",
   "execution_count": 4,
   "metadata": {},
   "outputs": [],
   "source": [
    "driver = webdriver.Chrome(\"C:/chrome/chromedriver.exe\")\n",
    "driver.get(link)"
   ]
  },
  {
   "cell_type": "code",
   "execution_count": 5,
   "metadata": {},
   "outputs": [],
   "source": [
    "os.makedirs('result', exist_ok=True)"
   ]
  },
  {
   "cell_type": "code",
   "execution_count": 6,
   "metadata": {},
   "outputs": [
    {
     "name": "stdout",
     "output_type": "stream",
     "text": [
      "Cannot find load more button...\n"
     ]
    }
   ],
   "source": [
    "while True:\n",
    "    # (1) 4번의  스크롤링\n",
    "    for i in range(4):\n",
    "        driver.execute_script(\"window.scrollTo(0, document.body.scrollHeight);\")\n",
    "        time.sleep(1.5)\n",
    "\n",
    "    # (2) 더보기 클릭\n",
    "    try:\n",
    "        driver.find_element_by_xpath(\"//span[@class='RveJvd snByac']\").click()\n",
    "    except:\n",
    "        print('끝')\n",
    "        break"
   ]
  },
  {
   "cell_type": "code",
   "execution_count": 7,
   "metadata": {},
   "outputs": [],
   "source": [
    "# get review containers\n",
    "reviews = driver.find_elements_by_xpath('//*[@jsname=\"fk8dgd\"]//div[@class=\"d15Mdf bAhLNe\"]')"
   ]
  },
  {
   "cell_type": "code",
   "execution_count": 8,
   "metadata": {},
   "outputs": [
    {
     "name": "stdout",
     "output_type": "stream",
     "text": [
      "There are 262 reviews avaliable!\n",
      "Writing the data...\n"
     ]
    }
   ],
   "source": [
    "print('There are %d reviews avaliable!' % len(reviews))\n",
    "print('Writing the data...')"
   ]
  },
  {
   "cell_type": "code",
   "execution_count": 9,
   "metadata": {},
   "outputs": [],
   "source": [
    "# create empty dataframe to store data\n",
    "df = pd.DataFrame(columns=['date', 'ratings', 'helpful', 'comment'])"
   ]
  },
  {
   "cell_type": "code",
   "execution_count": 10,
   "metadata": {},
   "outputs": [],
   "source": [
    "# get review data\n",
    "for review in reviews:\n",
    "    # parse string to html using bs4\n",
    "    soup = BeautifulSoup(review.get_attribute('innerHTML'), 'html.parser')\n",
    "\n",
    "    # review date\n",
    "    date = soup.find(class_='p2TkOb').text\n",
    "    date = datetime.strptime(date, '%Y년 %m월 %d일')\n",
    "    date = date.strftime('%Y-%m-%d')\n",
    "\n",
    "    # ratiabsng\n",
    "    ratings = int(soup.find('div', role='img').get('aria-label').replace('별표 5개 만점에', '').replace('개를 받았습니다.', '').strip())\n",
    "\n",
    "    # helpful\n",
    "    helpful = soup.find(class_='jUL89d y92BAb').text\n",
    "    if not helpful:\n",
    "        helpful = 0\n",
    "  \n",
    "    # review text\n",
    "    comment = soup.find('span', jsname='fbQN7e').text\n",
    "    if not comment:\n",
    "        comment = soup.find('span', jsname='bN97Pc').text\n",
    "\n",
    "    # developer comment\n",
    "    developer_comment = None\n",
    "    dc_div = soup.find('div', class_='LVQB0b')\n",
    "    if dc_div:\n",
    "        developer_comment = dc_div.text.replace('\\n', ' ')\n",
    "\n",
    "    # append to dataframe\n",
    "    df = df.append({\n",
    "        'date': date,\n",
    "#         'name': name,\n",
    "        'ratings': ratings,\n",
    "        'helpful': helpful,\n",
    "        'comment': comment,\n",
    "#         'developer_comment': developer_comment\n",
    "    }, ignore_index=True)"
   ]
  },
  {
   "cell_type": "code",
   "execution_count": 11,
   "metadata": {},
   "outputs": [
    {
     "name": "stdout",
     "output_type": "stream",
     "text": [
      "Done!\n"
     ]
    }
   ],
   "source": [
    "# finally save the dataframe into csv file\n",
    "df.to_csv('리브온_Playstore.csv', encoding='utf-8-sig', index=False)\n",
    "driver.stop_client()\n",
    "driver.close()\n",
    "\n",
    "print('Done!')"
   ]
  },
  {
   "cell_type": "code",
   "execution_count": 12,
   "metadata": {},
   "outputs": [
    {
     "data": {
      "text/html": [
       "<div>\n",
       "<style scoped>\n",
       "    .dataframe tbody tr th:only-of-type {\n",
       "        vertical-align: middle;\n",
       "    }\n",
       "\n",
       "    .dataframe tbody tr th {\n",
       "        vertical-align: top;\n",
       "    }\n",
       "\n",
       "    .dataframe thead th {\n",
       "        text-align: right;\n",
       "    }\n",
       "</style>\n",
       "<table border=\"1\" class=\"dataframe\">\n",
       "  <thead>\n",
       "    <tr style=\"text-align: right;\">\n",
       "      <th></th>\n",
       "      <th>date</th>\n",
       "      <th>ratings</th>\n",
       "      <th>helpful</th>\n",
       "      <th>comment</th>\n",
       "    </tr>\n",
       "  </thead>\n",
       "  <tbody>\n",
       "    <tr>\n",
       "      <th>0</th>\n",
       "      <td>2020-11-08</td>\n",
       "      <td>5</td>\n",
       "      <td>4</td>\n",
       "      <td>매매,전세,월세 가격이 표시되면 훨씬더 좋을것같습니다~~</td>\n",
       "    </tr>\n",
       "    <tr>\n",
       "      <th>1</th>\n",
       "      <td>2020-09-28</td>\n",
       "      <td>1</td>\n",
       "      <td>32</td>\n",
       "      <td>앱 UX 최악. 시세조회때문에 어쩔 수 없이 쓰지만 쓸 일 없어지면 바로 삭제 하고...</td>\n",
       "    </tr>\n",
       "    <tr>\n",
       "      <th>2</th>\n",
       "      <td>2020-08-26</td>\n",
       "      <td>1</td>\n",
       "      <td>33</td>\n",
       "      <td>전혀 개선이 안되는데, 사용도 안해보는건가? 최소한 조회결과에 대해 추천순이든 낮은...</td>\n",
       "    </tr>\n",
       "    <tr>\n",
       "      <th>3</th>\n",
       "      <td>2020-10-12</td>\n",
       "      <td>1</td>\n",
       "      <td>2</td>\n",
       "      <td>응답코드 오류만 나와요 ㅠ</td>\n",
       "    </tr>\n",
       "    <tr>\n",
       "      <th>4</th>\n",
       "      <td>2020-08-30</td>\n",
       "      <td>1</td>\n",
       "      <td>14</td>\n",
       "      <td>와... 너무 느려요. 게다가 조회도 gui 스레드에서 해서 화면에 anr 걸리고 ...</td>\n",
       "    </tr>\n",
       "    <tr>\n",
       "      <th>...</th>\n",
       "      <td>...</td>\n",
       "      <td>...</td>\n",
       "      <td>...</td>\n",
       "      <td>...</td>\n",
       "    </tr>\n",
       "    <tr>\n",
       "      <th>257</th>\n",
       "      <td>2020-04-24</td>\n",
       "      <td>5</td>\n",
       "      <td>0</td>\n",
       "      <td>좋아용</td>\n",
       "    </tr>\n",
       "    <tr>\n",
       "      <th>258</th>\n",
       "      <td>2018-02-19</td>\n",
       "      <td>5</td>\n",
       "      <td>7</td>\n",
       "      <td>좋아요</td>\n",
       "    </tr>\n",
       "    <tr>\n",
       "      <th>259</th>\n",
       "      <td>2019-02-02</td>\n",
       "      <td>5</td>\n",
       "      <td>1</td>\n",
       "      <td>좋네요</td>\n",
       "    </tr>\n",
       "    <tr>\n",
       "      <th>260</th>\n",
       "      <td>2018-06-16</td>\n",
       "      <td>5</td>\n",
       "      <td>2</td>\n",
       "      <td>굿</td>\n",
       "    </tr>\n",
       "    <tr>\n",
       "      <th>261</th>\n",
       "      <td>2020-03-18</td>\n",
       "      <td>3</td>\n",
       "      <td>0</td>\n",
       "      <td>굿</td>\n",
       "    </tr>\n",
       "  </tbody>\n",
       "</table>\n",
       "<p>262 rows × 4 columns</p>\n",
       "</div>"
      ],
      "text/plain": [
       "           date  ratings  helpful  \\\n",
       "0    2020-11-08        5        4   \n",
       "1    2020-09-28        1       32   \n",
       "2    2020-08-26        1       33   \n",
       "3    2020-10-12        1        2   \n",
       "4    2020-08-30        1       14   \n",
       "..          ...      ...      ...   \n",
       "257  2020-04-24        5        0   \n",
       "258  2018-02-19        5        7   \n",
       "259  2019-02-02        5        1   \n",
       "260  2018-06-16        5        2   \n",
       "261  2020-03-18        3        0   \n",
       "\n",
       "                                               comment  \n",
       "0                      매매,전세,월세 가격이 표시되면 훨씬더 좋을것같습니다~~  \n",
       "1    앱 UX 최악. 시세조회때문에 어쩔 수 없이 쓰지만 쓸 일 없어지면 바로 삭제 하고...  \n",
       "2    전혀 개선이 안되는데, 사용도 안해보는건가? 최소한 조회결과에 대해 추천순이든 낮은...  \n",
       "3                                       응답코드 오류만 나와요 ㅠ  \n",
       "4    와... 너무 느려요. 게다가 조회도 gui 스레드에서 해서 화면에 anr 걸리고 ...  \n",
       "..                                                 ...  \n",
       "257                                                좋아용  \n",
       "258                                                좋아요  \n",
       "259                                                좋네요  \n",
       "260                                                  굿  \n",
       "261                                                  굿  \n",
       "\n",
       "[262 rows x 4 columns]"
      ]
     },
     "execution_count": 12,
     "metadata": {},
     "output_type": "execute_result"
    }
   ],
   "source": [
    "train = pd.read_csv('리브온_Playstore.csv')\n",
    "train"
   ]
  }
 ],
 "metadata": {
  "kernelspec": {
   "display_name": "Python 3",
   "language": "python",
   "name": "python3"
  },
  "language_info": {
   "codemirror_mode": {
    "name": "ipython",
    "version": 3
   },
   "file_extension": ".py",
   "mimetype": "text/x-python",
   "name": "python",
   "nbconvert_exporter": "python",
   "pygments_lexer": "ipython3",
   "version": "3.7.6"
  }
 },
 "nbformat": 4,
 "nbformat_minor": 4
}
